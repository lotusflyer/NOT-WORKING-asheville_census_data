{
 "cells": [
  {
   "cell_type": "markdown",
   "metadata": {},
   "source": [
    "# Demonstration of Census Data Access\n",
    "\n",
    "Thanks to Earth Lab\n",
    "https://earthdatascience.org/tutorials/get-cenus-data-with-cenpy/"
   ]
  },
  {
   "cell_type": "code",
   "execution_count": 1,
   "metadata": {},
   "outputs": [],
   "source": [
    "import pandas as pd\n",
    "import cenpy as cen\n",
    "import pysal"
   ]
  },
  {
   "cell_type": "code",
   "execution_count": 2,
   "metadata": {},
   "outputs": [
    {
     "data": {
      "text/html": [
       "<div>\n",
       "<style scoped>\n",
       "    .dataframe tbody tr th:only-of-type {\n",
       "        vertical-align: middle;\n",
       "    }\n",
       "\n",
       "    .dataframe tbody tr th {\n",
       "        vertical-align: top;\n",
       "    }\n",
       "\n",
       "    .dataframe thead th {\n",
       "        text-align: right;\n",
       "    }\n",
       "</style>\n",
       "<table border=\"1\" class=\"dataframe\">\n",
       "  <thead>\n",
       "    <tr style=\"text-align: right;\">\n",
       "      <th></th>\n",
       "      <th>0</th>\n",
       "      <th>1</th>\n",
       "    </tr>\n",
       "  </thead>\n",
       "  <tbody>\n",
       "    <tr>\n",
       "      <th>0</th>\n",
       "      <td>ACSSF5Y2010</td>\n",
       "      <td>2006-2010 American Community Survey 5-Year Est...</td>\n",
       "    </tr>\n",
       "    <tr>\n",
       "      <th>1</th>\n",
       "      <td>NONEMP2007</td>\n",
       "      <td>2007 Nonemployer Statistics: Non Employer Stat...</td>\n",
       "    </tr>\n",
       "    <tr>\n",
       "      <th>2</th>\n",
       "      <td>POPESTagesex</td>\n",
       "      <td>Vintage 2014 Population Estimates: National An...</td>\n",
       "    </tr>\n",
       "    <tr>\n",
       "      <th>3</th>\n",
       "      <td>ZBPTotal2011</td>\n",
       "      <td>2011 County Business Patterns - Zip Code Busin...</td>\n",
       "    </tr>\n",
       "    <tr>\n",
       "      <th>4</th>\n",
       "      <td>ITMonthlyImportsUSDA</td>\n",
       "      <td>Time Series International Trade: Monthly U.S. ...</td>\n",
       "    </tr>\n",
       "  </tbody>\n",
       "</table>\n",
       "</div>"
      ],
      "text/plain": [
       "                      0                                                  1\n",
       "0           ACSSF5Y2010  2006-2010 American Community Survey 5-Year Est...\n",
       "1            NONEMP2007  2007 Nonemployer Statistics: Non Employer Stat...\n",
       "2          POPESTagesex  Vintage 2014 Population Estimates: National An...\n",
       "3          ZBPTotal2011  2011 County Business Patterns - Zip Code Busin...\n",
       "4  ITMonthlyImportsUSDA  Time Series International Trade: Monthly U.S. ..."
      ]
     },
     "execution_count": 2,
     "metadata": {},
     "output_type": "execute_result"
    }
   ],
   "source": [
    "datasets = list(cen.explorer.available(verbose=True).items())\n",
    "\n",
    "# print first rows of the dataframe containing datasets\n",
    "pd.DataFrame(datasets).head()"
   ]
  },
  {
   "cell_type": "code",
   "execution_count": 3,
   "metadata": {},
   "outputs": [
    {
     "data": {
      "text/plain": [
       "{'2012 American Community Survey: 1-Year Estimates': \"The American Community Survey (ACS) is a nationwide survey designed to provide communities a fresh look at how they are changing. The ACS replaced the decennial census long form in 2010 and thereafter by collecting long form type information throughout the decade rather than only once every 10 years.  Questionnaires are mailed to a sample of addresses to obtain information about households -- that is, about each person and the housing unit itself.  The American Community Survey produces demographic, social, housing and economic estimates in the form of 1-year, 3-year and 5-year estimates based on population thresholds. The strength of the ACS is in estimating population and housing characteristics. It produces estimates for small areas, including census tracts and population subgroups.  Although the ACS produces population, demographic and housing unit estimates,it is the Census Bureau's Population Estimates Program that produces and disseminates the official estimates of the population for the nation, states, counties, cities and towns, and estimates of housing units for states and counties.  For 2010 and other decennial census years, the Decennial Census provides the official counts of population and housing units.\"}"
      ]
     },
     "execution_count": 3,
     "metadata": {},
     "output_type": "execute_result"
    }
   ],
   "source": [
    "dataset = '2012acs1'\n",
    "cen.explorer.explain(dataset)"
   ]
  },
  {
   "cell_type": "code",
   "execution_count": 4,
   "metadata": {},
   "outputs": [
    {
     "data": {
      "text/plain": [
       "Connection to 2012 American Community Survey: 1-Year Estimates (ID: http://api.census.gov/data/id/2012acs1)"
      ]
     },
     "execution_count": 4,
     "metadata": {},
     "output_type": "execute_result"
    }
   ],
   "source": [
    "con = cen.base.Connection(dataset)\n",
    "con"
   ]
  },
  {
   "cell_type": "code",
   "execution_count": 5,
   "metadata": {},
   "outputs": [
    {
     "name": "stdout",
     "output_type": "stream",
     "text": [
      "<class 'cenpy.remote.APIConnection'>\n",
      "<class 'dict'>\n",
      "dict_keys(['fips'])\n"
     ]
    }
   ],
   "source": [
    "print(type(con))\n",
    "print(type(con.geographies))\n",
    "print(con.geographies.keys())"
   ]
  },
  {
   "cell_type": "code",
   "execution_count": 6,
   "metadata": {},
   "outputs": [
    {
     "data": {
      "text/html": [
       "<div>\n",
       "<style scoped>\n",
       "    .dataframe tbody tr th:only-of-type {\n",
       "        vertical-align: middle;\n",
       "    }\n",
       "\n",
       "    .dataframe tbody tr th {\n",
       "        vertical-align: top;\n",
       "    }\n",
       "\n",
       "    .dataframe thead th {\n",
       "        text-align: right;\n",
       "    }\n",
       "</style>\n",
       "<table border=\"1\" class=\"dataframe\">\n",
       "  <thead>\n",
       "    <tr style=\"text-align: right;\">\n",
       "      <th></th>\n",
       "      <th>geoLevelId</th>\n",
       "      <th>name</th>\n",
       "      <th>optionalWithWCFor</th>\n",
       "      <th>requires</th>\n",
       "      <th>wildcard</th>\n",
       "    </tr>\n",
       "  </thead>\n",
       "  <tbody>\n",
       "    <tr>\n",
       "      <th>0</th>\n",
       "      <td>500</td>\n",
       "      <td>congressional district</td>\n",
       "      <td>state</td>\n",
       "      <td>[state]</td>\n",
       "      <td>[state]</td>\n",
       "    </tr>\n",
       "    <tr>\n",
       "      <th>1</th>\n",
       "      <td>060</td>\n",
       "      <td>county subdivision</td>\n",
       "      <td>NaN</td>\n",
       "      <td>[state, county]</td>\n",
       "      <td>NaN</td>\n",
       "    </tr>\n",
       "    <tr>\n",
       "      <th>2</th>\n",
       "      <td>795</td>\n",
       "      <td>public use microdata area</td>\n",
       "      <td>NaN</td>\n",
       "      <td>[state]</td>\n",
       "      <td>NaN</td>\n",
       "    </tr>\n",
       "    <tr>\n",
       "      <th>3</th>\n",
       "      <td>310</td>\n",
       "      <td>metropolitan statistical area/micropolitan sta...</td>\n",
       "      <td>NaN</td>\n",
       "      <td>NaN</td>\n",
       "      <td>NaN</td>\n",
       "    </tr>\n",
       "    <tr>\n",
       "      <th>4</th>\n",
       "      <td>160</td>\n",
       "      <td>place</td>\n",
       "      <td>state</td>\n",
       "      <td>[state]</td>\n",
       "      <td>[state]</td>\n",
       "    </tr>\n",
       "  </tbody>\n",
       "</table>\n",
       "</div>"
      ],
      "text/plain": [
       "  geoLevelId                                               name  \\\n",
       "0        500                             congressional district   \n",
       "1        060                                 county subdivision   \n",
       "2        795                          public use microdata area   \n",
       "3        310  metropolitan statistical area/micropolitan sta...   \n",
       "4        160                                              place   \n",
       "\n",
       "  optionalWithWCFor         requires wildcard  \n",
       "0             state          [state]  [state]  \n",
       "1               NaN  [state, county]      NaN  \n",
       "2               NaN          [state]      NaN  \n",
       "3               NaN              NaN      NaN  \n",
       "4             state          [state]  [state]  "
      ]
     },
     "execution_count": 6,
     "metadata": {},
     "output_type": "execute_result"
    }
   ],
   "source": [
    "# print head of data frame in the geographies dictionary\n",
    "con.geographies['fips'].head()"
   ]
  },
  {
   "cell_type": "code",
   "execution_count": 7,
   "metadata": {},
   "outputs": [],
   "source": [
    "g_unit = 'county:*'\n",
    "g_filter = {'state':'8'}"
   ]
  },
  {
   "cell_type": "code",
   "execution_count": 8,
   "metadata": {},
   "outputs": [
    {
     "name": "stdout",
     "output_type": "stream",
     "text": [
      "Number of variables in 2012acs1 : 68401\n"
     ]
    },
    {
     "data": {
      "text/html": [
       "<div>\n",
       "<style scoped>\n",
       "    .dataframe tbody tr th:only-of-type {\n",
       "        vertical-align: middle;\n",
       "    }\n",
       "\n",
       "    .dataframe tbody tr th {\n",
       "        vertical-align: top;\n",
       "    }\n",
       "\n",
       "    .dataframe thead th {\n",
       "        text-align: right;\n",
       "    }\n",
       "</style>\n",
       "<table border=\"1\" class=\"dataframe\">\n",
       "  <thead>\n",
       "    <tr style=\"text-align: right;\">\n",
       "      <th></th>\n",
       "      <th>concept</th>\n",
       "      <th>group</th>\n",
       "      <th>label</th>\n",
       "      <th>limit</th>\n",
       "      <th>predicateOnly</th>\n",
       "      <th>predicateType</th>\n",
       "      <th>validValues</th>\n",
       "    </tr>\n",
       "  </thead>\n",
       "  <tbody>\n",
       "    <tr>\n",
       "      <th>for</th>\n",
       "      <td>Census API Geography Specification</td>\n",
       "      <td>N/A</td>\n",
       "      <td>Census API FIPS 'for' clause</td>\n",
       "      <td>0</td>\n",
       "      <td>True</td>\n",
       "      <td>fips-for</td>\n",
       "      <td>NaN</td>\n",
       "    </tr>\n",
       "    <tr>\n",
       "      <th>in</th>\n",
       "      <td>Census API Geography Specification</td>\n",
       "      <td>N/A</td>\n",
       "      <td>Census API FIPS 'in' clause</td>\n",
       "      <td>0</td>\n",
       "      <td>True</td>\n",
       "      <td>fips-in</td>\n",
       "      <td>NaN</td>\n",
       "    </tr>\n",
       "    <tr>\n",
       "      <th>B20005E_045M</th>\n",
       "      <td>B20005E.  Sex by Work Experience by Earnings f...</td>\n",
       "      <td>N/A</td>\n",
       "      <td>Margin of Error for!!Male:!!Other:!!With earni...</td>\n",
       "      <td>0</td>\n",
       "      <td>NaN</td>\n",
       "      <td>NaN</td>\n",
       "      <td>[]</td>\n",
       "    </tr>\n",
       "    <tr>\n",
       "      <th>B06004HPR_002M</th>\n",
       "      <td>B06004HPR.  Place of Birth (White Alone, Not H...</td>\n",
       "      <td>N/A</td>\n",
       "      <td>Margin of Error for!!Born in Puerto Rico</td>\n",
       "      <td>0</td>\n",
       "      <td>NaN</td>\n",
       "      <td>NaN</td>\n",
       "      <td>[]</td>\n",
       "    </tr>\n",
       "    <tr>\n",
       "      <th>B24126_438E</th>\n",
       "      <td>B24126.  Detailed Occupation for the Full-Time...</td>\n",
       "      <td>N/A</td>\n",
       "      <td>Multiple machine tool setters, operators, and ...</td>\n",
       "      <td>0</td>\n",
       "      <td>NaN</td>\n",
       "      <td>NaN</td>\n",
       "      <td>[]</td>\n",
       "    </tr>\n",
       "  </tbody>\n",
       "</table>\n",
       "</div>"
      ],
      "text/plain": [
       "                                                          concept group  \\\n",
       "for                            Census API Geography Specification   N/A   \n",
       "in                             Census API Geography Specification   N/A   \n",
       "B20005E_045M    B20005E.  Sex by Work Experience by Earnings f...   N/A   \n",
       "B06004HPR_002M  B06004HPR.  Place of Birth (White Alone, Not H...   N/A   \n",
       "B24126_438E     B24126.  Detailed Occupation for the Full-Time...   N/A   \n",
       "\n",
       "                                                            label limit  \\\n",
       "for                                  Census API FIPS 'for' clause     0   \n",
       "in                                    Census API FIPS 'in' clause     0   \n",
       "B20005E_045M    Margin of Error for!!Male:!!Other:!!With earni...     0   \n",
       "B06004HPR_002M           Margin of Error for!!Born in Puerto Rico     0   \n",
       "B24126_438E     Multiple machine tool setters, operators, and ...     0   \n",
       "\n",
       "               predicateOnly predicateType validValues  \n",
       "for                     True      fips-for         NaN  \n",
       "in                      True       fips-in         NaN  \n",
       "B20005E_045M             NaN           NaN          []  \n",
       "B06004HPR_002M           NaN           NaN          []  \n",
       "B24126_438E              NaN           NaN          []  "
      ]
     },
     "execution_count": 8,
     "metadata": {},
     "output_type": "execute_result"
    }
   ],
   "source": [
    "var = con.variables\n",
    "print('Number of variables in', dataset, ':', len(var))\n",
    "con.variables.head()"
   ]
  },
  {
   "cell_type": "code",
   "execution_count": 9,
   "metadata": {},
   "outputs": [],
   "source": [
    "cols = con.varslike('B01001A_')\n",
    "cols.extend(['NAME', 'GEOID'])"
   ]
  },
  {
   "cell_type": "code",
   "execution_count": 10,
   "metadata": {},
   "outputs": [
    {
     "name": "stderr",
     "output_type": "stream",
     "text": [
      "/Users/georgecollier/.local/share/virtualenvs/Notebooks18-oU4hoBbS/lib/python3.6/site-packages/cenpy/remote.py:172: FutureWarning: convert_objects is deprecated.  To re-infer data dtypes for object columns, use DataFrame.infer_objects()\n",
      "For all other conversions use the data-type specific converters pd.to_datetime, pd.to_timedelta and pd.to_numeric.\n",
      "  df[cols] = df[cols].convert_objects(convert_numeric=convert_numeric)\n"
     ]
    }
   ],
   "source": [
    "data = con.query(cols, geo_unit=g_unit, geo_filter=g_filter)\n",
    "# prints a deprecation warning because of how cenpy calls pandas"
   ]
  },
  {
   "cell_type": "code",
   "execution_count": 17,
   "metadata": {},
   "outputs": [
    {
     "data": {
      "text/html": [
       "<div>\n",
       "<style scoped>\n",
       "    .dataframe tbody tr th:only-of-type {\n",
       "        vertical-align: middle;\n",
       "    }\n",
       "\n",
       "    .dataframe tbody tr th {\n",
       "        vertical-align: top;\n",
       "    }\n",
       "\n",
       "    .dataframe thead th {\n",
       "        text-align: right;\n",
       "    }\n",
       "</style>\n",
       "<table border=\"1\" class=\"dataframe\">\n",
       "  <thead>\n",
       "    <tr style=\"text-align: right;\">\n",
       "      <th></th>\n",
       "      <th>B01001A_007M</th>\n",
       "      <th>B01001A_008E</th>\n",
       "      <th>B01001A_009M</th>\n",
       "      <th>NAME</th>\n",
       "      <th>GEOID</th>\n",
       "    </tr>\n",
       "    <tr>\n",
       "      <th>NAME</th>\n",
       "      <th></th>\n",
       "      <th></th>\n",
       "      <th></th>\n",
       "      <th></th>\n",
       "      <th></th>\n",
       "    </tr>\n",
       "  </thead>\n",
       "  <tbody>\n",
       "    <tr>\n",
       "      <th>Adams County, Colorado</th>\n",
       "      <td>514</td>\n",
       "      <td>12648</td>\n",
       "      <td>624</td>\n",
       "      <td>Adams County, Colorado</td>\n",
       "      <td>05000US08001</td>\n",
       "    </tr>\n",
       "    <tr>\n",
       "      <th>Arapahoe County, Colorado</th>\n",
       "      <td>432</td>\n",
       "      <td>13231</td>\n",
       "      <td>582</td>\n",
       "      <td>Arapahoe County, Colorado</td>\n",
       "      <td>05000US08005</td>\n",
       "    </tr>\n",
       "    <tr>\n",
       "      <th>Boulder County, Colorado</th>\n",
       "      <td>632</td>\n",
       "      <td>15297</td>\n",
       "      <td>189</td>\n",
       "      <td>Boulder County, Colorado</td>\n",
       "      <td>05000US08013</td>\n",
       "    </tr>\n",
       "    <tr>\n",
       "      <th>Denver County, Colorado</th>\n",
       "      <td>389</td>\n",
       "      <td>15602</td>\n",
       "      <td>829</td>\n",
       "      <td>Denver County, Colorado</td>\n",
       "      <td>05000US08031</td>\n",
       "    </tr>\n",
       "    <tr>\n",
       "      <th>Douglas County, Colorado</th>\n",
       "      <td>367</td>\n",
       "      <td>4953</td>\n",
       "      <td>442</td>\n",
       "      <td>Douglas County, Colorado</td>\n",
       "      <td>05000US08035</td>\n",
       "    </tr>\n",
       "  </tbody>\n",
       "</table>\n",
       "</div>"
      ],
      "text/plain": [
       "                           B01001A_007M  B01001A_008E  B01001A_009M  \\\n",
       "NAME                                                                  \n",
       "Adams County, Colorado              514         12648           624   \n",
       "Arapahoe County, Colorado           432         13231           582   \n",
       "Boulder County, Colorado            632         15297           189   \n",
       "Denver County, Colorado             389         15602           829   \n",
       "Douglas County, Colorado            367          4953           442   \n",
       "\n",
       "                                                NAME         GEOID  \n",
       "NAME                                                                \n",
       "Adams County, Colorado        Adams County, Colorado  05000US08001  \n",
       "Arapahoe County, Colorado  Arapahoe County, Colorado  05000US08005  \n",
       "Boulder County, Colorado    Boulder County, Colorado  05000US08013  \n",
       "Denver County, Colorado      Denver County, Colorado  05000US08031  \n",
       "Douglas County, Colorado    Douglas County, Colorado  05000US08035  "
      ]
     },
     "execution_count": 17,
     "metadata": {},
     "output_type": "execute_result"
    }
   ],
   "source": [
    "data.index = data.NAME\n",
    "\n",
    "# print first five rows and last five columns\n",
    "data.iloc[:5, -5:]"
   ]
  },
  {
   "cell_type": "code",
   "execution_count": 12,
   "metadata": {},
   "outputs": [
    {
     "data": {
      "text/plain": [
       "[{'name': 'AIANNHA', 'type': 'MapServer'},\n",
       " {'name': 'CBSA', 'type': 'MapServer'},\n",
       " {'name': 'Hydro_LargeScale', 'type': 'MapServer'},\n",
       " {'name': 'Hydro', 'type': 'MapServer'},\n",
       " {'name': 'Labels', 'type': 'MapServer'},\n",
       " {'name': 'Legislative', 'type': 'MapServer'},\n",
       " {'name': 'Places_CouSub_ConCity_SubMCD', 'type': 'MapServer'},\n",
       " {'name': 'PUMA_TAD_TAZ_UGA_ZCTA', 'type': 'MapServer'},\n",
       " {'name': 'Region_Division', 'type': 'MapServer'},\n",
       " {'name': 'School', 'type': 'MapServer'},\n",
       " {'name': 'Special_Land_Use_Areas', 'type': 'MapServer'},\n",
       " {'name': 'State_County', 'type': 'MapServer'},\n",
       " {'name': 'tigerWMS_ACS2013', 'type': 'MapServer'},\n",
       " {'name': 'tigerWMS_ACS2014', 'type': 'MapServer'},\n",
       " {'name': 'tigerWMS_ACS2015', 'type': 'MapServer'},\n",
       " {'name': 'tigerWMS_ACS2016', 'type': 'MapServer'},\n",
       " {'name': 'tigerWMS_ACS2017', 'type': 'MapServer'},\n",
       " {'name': 'tigerWMS_Census2010', 'type': 'MapServer'},\n",
       " {'name': 'tigerWMS_Current', 'type': 'MapServer'},\n",
       " {'name': 'tigerWMS_ECON2012', 'type': 'MapServer'},\n",
       " {'name': 'tigerWMS_PhysicalFeatures', 'type': 'MapServer'},\n",
       " {'name': 'Tracts_Blocks', 'type': 'MapServer'},\n",
       " {'name': 'Transportation_LargeScale', 'type': 'MapServer'},\n",
       " {'name': 'Transportation', 'type': 'MapServer'},\n",
       " {'name': 'TribalTracts', 'type': 'MapServer'},\n",
       " {'name': 'Urban', 'type': 'MapServer'},\n",
       " {'name': 'USLandmass', 'type': 'MapServer'}]"
      ]
     },
     "execution_count": 12,
     "metadata": {},
     "output_type": "execute_result"
    }
   ],
   "source": [
    "cen.tiger.available()"
   ]
  },
  {
   "cell_type": "code",
   "execution_count": 19,
   "metadata": {},
   "outputs": [
    {
     "data": {
      "text/plain": [
       "{0: (ESRILayer) 2010 Census Public Use Microdata Areas,\n",
       " 1: (ESRILayer) 2010 Census Public Use Microdata Areas Labels,\n",
       " 2: (ESRILayer) 2010 Census ZIP Code Tabulation Areas,\n",
       " 3: (ESRILayer) 2010 Census ZIP Code Tabulation Areas Labels,\n",
       " 4: (ESRILayer) Tribal Census Tracts,\n",
       " 5: (ESRILayer) Tribal Census Tracts Labels,\n",
       " 6: (ESRILayer) Tribal Block Groups,\n",
       " 7: (ESRILayer) Tribal Block Groups Labels,\n",
       " 8: (ESRILayer) Census Tracts,\n",
       " 9: (ESRILayer) Census Tracts Labels,\n",
       " 10: (ESRILayer) Census Block Groups,\n",
       " 11: (ESRILayer) Census Block Groups Labels,\n",
       " 12: (ESRILayer) Unified School Districts,\n",
       " 13: (ESRILayer) Unified School Districts Labels,\n",
       " 14: (ESRILayer) Secondary School Districts,\n",
       " 15: (ESRILayer) Secondary School Districts Labels,\n",
       " 16: (ESRILayer) Elementary School Districts,\n",
       " 17: (ESRILayer) Elementary School Districts Labels,\n",
       " 18: (ESRILayer) Estates,\n",
       " 19: (ESRILayer) Estates Labels,\n",
       " 20: (ESRILayer) County Subdivisions,\n",
       " 21: (ESRILayer) County Subdivisions Labels,\n",
       " 22: (ESRILayer) Subbarrios,\n",
       " 23: (ESRILayer) Subbarrios Labels,\n",
       " 24: (ESRILayer) Consolidated Cities,\n",
       " 25: (ESRILayer) Consolidated Cities Labels,\n",
       " 26: (ESRILayer) Incorporated Places,\n",
       " 27: (ESRILayer) Incorporated Places Labels,\n",
       " 28: (ESRILayer) Census Designated Places,\n",
       " 29: (ESRILayer) Census Designated Places Labels,\n",
       " 30: (ESRILayer) Alaska Native Regional Corporations,\n",
       " 31: (ESRILayer) Alaska Native Regional Corporations Labels,\n",
       " 32: (ESRILayer) Tribal Subdivisions,\n",
       " 33: (ESRILayer) Tribal Subdivisions Labels,\n",
       " 34: (ESRILayer) Federal American Indian Reservations,\n",
       " 35: (ESRILayer) Federal American Indian Reservations Labels,\n",
       " 36: (ESRILayer) Off-Reservation Trust Lands,\n",
       " 37: (ESRILayer) Off-Reservation Trust Lands Labels,\n",
       " 38: (ESRILayer) State American Indian Reservations,\n",
       " 39: (ESRILayer) State American Indian Reservations Labels,\n",
       " 40: (ESRILayer) Hawaiian Home Lands,\n",
       " 41: (ESRILayer) Hawaiian Home Lands Labels,\n",
       " 42: (ESRILayer) Alaska Native Village Statistical Areas,\n",
       " 43: (ESRILayer) Alaska Native Village Statistical Areas Labels,\n",
       " 44: (ESRILayer) Oklahoma Tribal Statistical Areas,\n",
       " 45: (ESRILayer) Oklahoma Tribal Statistical Areas Labels,\n",
       " 46: (ESRILayer) State Designated Tribal Statistical Areas,\n",
       " 47: (ESRILayer) State Designated Tribal Statistical Areas Labels,\n",
       " 48: (ESRILayer) Tribal Designated Statistical Areas,\n",
       " 49: (ESRILayer) Tribal Designated Statistical Areas Labels,\n",
       " 50: (ESRILayer) American Indian Joint-Use Areas,\n",
       " 51: (ESRILayer) American Indian Joint-Use Areas Labels,\n",
       " 52: (ESRILayer) 113th Congressional Districts,\n",
       " 53: (ESRILayer) 113th Congressional Districts Labels,\n",
       " 54: (ESRILayer) 2013 State Legislative Districts - Upper,\n",
       " 55: (ESRILayer) 2013 State Legislative Districts - Upper Labels,\n",
       " 56: (ESRILayer) 2013 State Legislative Districts - Lower,\n",
       " 57: (ESRILayer) 2013 State Legislative Districts - Lower Labels,\n",
       " 58: (ESRILayer) Census Divisions,\n",
       " 59: (ESRILayer) Census Divisions Labels,\n",
       " 60: (ESRILayer) Census Regions,\n",
       " 61: (ESRILayer) Census Regions Labels,\n",
       " 62: (ESRILayer) 2010 Census Urbanized Areas,\n",
       " 63: (ESRILayer) 2010 Census Urbanized Areas Labels,\n",
       " 64: (ESRILayer) 2010 Census Urban Clusters,\n",
       " 65: (ESRILayer) 2010 Census Urban Clusters Labels,\n",
       " 66: (ESRILayer) Combined New England City and Town Areas,\n",
       " 67: (ESRILayer) Combined New England City and Town Areas Labels,\n",
       " 68: (ESRILayer) New England City and Town Area Divisions,\n",
       " 69: (ESRILayer) New England City and Town Area  Divisions Labels,\n",
       " 70: (ESRILayer) Metropolitan New England City and Town Areas,\n",
       " 71: (ESRILayer) Metropolitan New England City and Town Areas Labels,\n",
       " 72: (ESRILayer) Micropolitan New England City and Town Areas,\n",
       " 73: (ESRILayer) Micropolitan New England City and Town Areas Labels,\n",
       " 74: (ESRILayer) Combined Statistical Areas,\n",
       " 75: (ESRILayer) Combined Statistical Areas Labels,\n",
       " 76: (ESRILayer) Metropolitan Divisions,\n",
       " 77: (ESRILayer) Metropolitan Divisions Labels,\n",
       " 78: (ESRILayer) Metropolitan Statistical Areas,\n",
       " 79: (ESRILayer) Metropolitan Statistical Areas Labels,\n",
       " 80: (ESRILayer) Micropolitan Statistical Areas,\n",
       " 81: (ESRILayer) Micropolitan Statistical Areas Labels,\n",
       " 82: (ESRILayer) States,\n",
       " 83: (ESRILayer) States Labels,\n",
       " 84: (ESRILayer) Counties,\n",
       " 85: (ESRILayer) Counties Labels}"
      ]
     },
     "execution_count": 19,
     "metadata": {},
     "output_type": "execute_result"
    }
   ],
   "source": [
    "con.set_mapservice('tigerWMS_ACS2013')\n",
    "\n",
    "# print layers\n",
    "con.mapservice.layers"
   ]
  },
  {
   "cell_type": "code",
   "execution_count": 14,
   "metadata": {},
   "outputs": [
    {
     "name": "stderr",
     "output_type": "stream",
     "text": [
      "/Users/georgecollier/.local/share/virtualenvs/Notebooks18-oU4hoBbS/lib/python3.6/site-packages/cenpy/tiger.py:184: UserWarning: Pandas doesn't allow columns to be created via a new attribute name - see https://pandas.pydata.org/pandas-docs/stable/indexing.html#attribute-access\n",
      "  outdf.crs = datadict.pop('spatialReference', {})\n"
     ]
    }
   ],
   "source": [
    "geodata = con.mapservice.query(layer=84, where='STATE=8')"
   ]
  },
  {
   "cell_type": "code",
   "execution_count": 16,
   "metadata": {},
   "outputs": [
    {
     "data": {
      "text/html": [
       "<div>\n",
       "<style scoped>\n",
       "    .dataframe tbody tr th:only-of-type {\n",
       "        vertical-align: middle;\n",
       "    }\n",
       "\n",
       "    .dataframe tbody tr th {\n",
       "        vertical-align: top;\n",
       "    }\n",
       "\n",
       "    .dataframe thead th {\n",
       "        text-align: right;\n",
       "    }\n",
       "</style>\n",
       "<table border=\"1\" class=\"dataframe\">\n",
       "  <thead>\n",
       "    <tr style=\"text-align: right;\">\n",
       "      <th></th>\n",
       "      <th>AREALAND</th>\n",
       "      <th>AREAWATER</th>\n",
       "      <th>BASENAME</th>\n",
       "      <th>CENTLAT</th>\n",
       "      <th>CENTLON</th>\n",
       "    </tr>\n",
       "  </thead>\n",
       "  <tbody>\n",
       "    <tr>\n",
       "      <th>0</th>\n",
       "      <td>8206547677</td>\n",
       "      <td>4454510</td>\n",
       "      <td>Saguache</td>\n",
       "      <td>+38.0807339</td>\n",
       "      <td>-106.2808607</td>\n",
       "    </tr>\n",
       "    <tr>\n",
       "      <th>1</th>\n",
       "      <td>4376528368</td>\n",
       "      <td>25375721</td>\n",
       "      <td>La Plata</td>\n",
       "      <td>+37.2863615</td>\n",
       "      <td>-107.8435627</td>\n",
       "    </tr>\n",
       "    <tr>\n",
       "      <th>2</th>\n",
       "      <td>1419419130</td>\n",
       "      <td>3530746</td>\n",
       "      <td>Sedgwick</td>\n",
       "      <td>+40.8759564</td>\n",
       "      <td>-102.3517903</td>\n",
       "    </tr>\n",
       "    <tr>\n",
       "      <th>3</th>\n",
       "      <td>1003660612</td>\n",
       "      <td>2035929</td>\n",
       "      <td>San Juan</td>\n",
       "      <td>+37.7640122</td>\n",
       "      <td>-107.6762274</td>\n",
       "    </tr>\n",
       "    <tr>\n",
       "      <th>4</th>\n",
       "      <td>4605714032</td>\n",
       "      <td>8166128</td>\n",
       "      <td>Cheyenne</td>\n",
       "      <td>+38.8281780</td>\n",
       "      <td>-102.6034141</td>\n",
       "    </tr>\n",
       "  </tbody>\n",
       "</table>\n",
       "</div>"
      ],
      "text/plain": [
       "     AREALAND  AREAWATER  BASENAME      CENTLAT       CENTLON\n",
       "0  8206547677    4454510  Saguache  +38.0807339  -106.2808607\n",
       "1  4376528368   25375721  La Plata  +37.2863615  -107.8435627\n",
       "2  1419419130    3530746  Sedgwick  +40.8759564  -102.3517903\n",
       "3  1003660612    2035929  San Juan  +37.7640122  -107.6762274\n",
       "4  4605714032    8166128  Cheyenne  +38.8281780  -102.6034141"
      ]
     },
     "execution_count": 16,
     "metadata": {},
     "output_type": "execute_result"
    }
   ],
   "source": [
    "# preview geodata\n",
    "geodata.iloc[:5, :5]"
   ]
  },
  {
   "cell_type": "code",
   "execution_count": 21,
   "metadata": {},
   "outputs": [
    {
     "data": {
      "text/html": [
       "<div>\n",
       "<style scoped>\n",
       "    .dataframe tbody tr th:only-of-type {\n",
       "        vertical-align: middle;\n",
       "    }\n",
       "\n",
       "    .dataframe tbody tr th {\n",
       "        vertical-align: top;\n",
       "    }\n",
       "\n",
       "    .dataframe thead th {\n",
       "        text-align: right;\n",
       "    }\n",
       "</style>\n",
       "<table border=\"1\" class=\"dataframe\">\n",
       "  <thead>\n",
       "    <tr style=\"text-align: right;\">\n",
       "      <th></th>\n",
       "      <th>NAME_y</th>\n",
       "      <th>OBJECTID</th>\n",
       "      <th>OID</th>\n",
       "      <th>STATE</th>\n",
       "      <th>geometry</th>\n",
       "    </tr>\n",
       "  </thead>\n",
       "  <tbody>\n",
       "    <tr>\n",
       "      <th>0</th>\n",
       "      <td>Adams County</td>\n",
       "      <td>1226</td>\n",
       "      <td>27553700234319</td>\n",
       "      <td>08</td>\n",
       "      <td>&lt;pysal.cg.shapes.Polygon object at 0x114f4ea90&gt;</td>\n",
       "    </tr>\n",
       "    <tr>\n",
       "      <th>1</th>\n",
       "      <td>Arapahoe County</td>\n",
       "      <td>2980</td>\n",
       "      <td>27553703789414</td>\n",
       "      <td>08</td>\n",
       "      <td>&lt;pysal.cg.shapes.Polygon object at 0x11d9aea58&gt;</td>\n",
       "    </tr>\n",
       "    <tr>\n",
       "      <th>2</th>\n",
       "      <td>Boulder County</td>\n",
       "      <td>512</td>\n",
       "      <td>27553701435070</td>\n",
       "      <td>08</td>\n",
       "      <td>&lt;pysal.cg.shapes.Polygon object at 0x1145c7b38&gt;</td>\n",
       "    </tr>\n",
       "    <tr>\n",
       "      <th>3</th>\n",
       "      <td>Denver County</td>\n",
       "      <td>529</td>\n",
       "      <td>27553700234321</td>\n",
       "      <td>08</td>\n",
       "      <td>&lt;pysal.cg.shapes.Polygon object at 0x11d3c7940&gt;</td>\n",
       "    </tr>\n",
       "    <tr>\n",
       "      <th>4</th>\n",
       "      <td>Douglas County</td>\n",
       "      <td>2762</td>\n",
       "      <td>27553711656416</td>\n",
       "      <td>08</td>\n",
       "      <td>&lt;pysal.cg.shapes.Polygon object at 0x11e0126d8&gt;</td>\n",
       "    </tr>\n",
       "  </tbody>\n",
       "</table>\n",
       "</div>"
      ],
      "text/plain": [
       "            NAME_y  OBJECTID             OID STATE  \\\n",
       "0     Adams County      1226  27553700234319    08   \n",
       "1  Arapahoe County      2980  27553703789414    08   \n",
       "2   Boulder County       512  27553701435070    08   \n",
       "3    Denver County       529  27553700234321    08   \n",
       "4   Douglas County      2762  27553711656416    08   \n",
       "\n",
       "                                          geometry  \n",
       "0  <pysal.cg.shapes.Polygon object at 0x114f4ea90>  \n",
       "1  <pysal.cg.shapes.Polygon object at 0x11d9aea58>  \n",
       "2  <pysal.cg.shapes.Polygon object at 0x1145c7b38>  \n",
       "3  <pysal.cg.shapes.Polygon object at 0x11d3c7940>  \n",
       "4  <pysal.cg.shapes.Polygon object at 0x11e0126d8>  "
      ]
     },
     "execution_count": 21,
     "metadata": {},
     "output_type": "execute_result"
    }
   ],
   "source": [
    "newdata = pd.merge(data, geodata, left_on='county', right_on='COUNTY')\n",
    "newdata.iloc[:5, -5:]"
   ]
  },
  {
   "cell_type": "code",
   "execution_count": null,
   "metadata": {},
   "outputs": [],
   "source": []
  }
 ],
 "metadata": {
  "kernelspec": {
   "display_name": "Python 3",
   "language": "python",
   "name": "python3"
  },
  "language_info": {
   "codemirror_mode": {
    "name": "ipython",
    "version": 3
   },
   "file_extension": ".py",
   "mimetype": "text/x-python",
   "name": "python",
   "nbconvert_exporter": "python",
   "pygments_lexer": "ipython3",
   "version": "3.6.5"
  }
 },
 "nbformat": 4,
 "nbformat_minor": 2
}
